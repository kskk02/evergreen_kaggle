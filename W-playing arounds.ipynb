{
 "metadata": {
  "name": "",
  "signature": "sha256:a3bff61a91c9828dc3d134a64a28c879bab455c1a791e3e3a15895436d3113b3"
 },
 "nbformat": 3,
 "nbformat_minor": 0,
 "worksheets": [
  {
   "cells": [
    {
     "cell_type": "code",
     "collapsed": false,
     "input": [
      "%pylab inline\n",
      "import numpy as np\n",
      "from sklearn import metrics, preprocessing, cross_validation, grid_search\n",
      "from sklearn.feature_extraction.text import CountVectorizer as cv\n",
      "from sklearn.feature_extraction.text import TfidfVectorizer as tfidf\n",
      "from sklearn.feature_extraction.text import ENGLISH_STOP_WORDS\n",
      "import sklearn.linear_model as lm\n",
      "import pandas as p\n",
      "import ast\n",
      "from sklearn import cluster\n",
      "from scipy.cluster.hierarchy import linkage, dendrogram\n",
      "from scipy.spatial.distance import pdist, squareform"
     ],
     "language": "python",
     "metadata": {},
     "outputs": [
      {
       "output_type": "stream",
       "stream": "stdout",
       "text": [
        "Populating the interactive namespace from numpy and matplotlib\n"
       ]
      }
     ],
     "prompt_number": 1
    },
    {
     "cell_type": "code",
     "collapsed": false,
     "input": [
      "# traindata = list(np.array(p.read_table('train.tsv'))[:,2])"
     ],
     "language": "python",
     "metadata": {},
     "outputs": [],
     "prompt_number": 17
    },
    {
     "cell_type": "code",
     "collapsed": false,
     "input": [
      "# numdata = traindata[['alchemy_category_score', 'avglinksize', 'commonlinkratio_1', 'commonlinkratio_2', 'commonlinkratio_3', \n",
      "#            'commonlinkratio_4', 'compression_ratio', 'embed_ratio', 'framebased', 'frameTagRatio', 'hasDomainLink', \n",
      "#            'html_ratio', 'image_ratio', 'is_news', 'lengthyLinkDomain', 'linkwordscore','image_ratio', 'is_news', \n",
      "#            'lengthyLinkDomain', 'linkwordscore', 'news_front_page', 'non_markup_alphanum_characters', \n",
      "#            'numberOfLinks', 'numwords_in_url', 'parametrizedLinkRatio', 'spelling_errors_ratio']]\n",
      "\n",
      "# correlations = numdata.corr()"
     ],
     "language": "python",
     "metadata": {},
     "outputs": [
      {
       "ename": "IndexError",
       "evalue": "list assignment index out of range",
       "output_type": "pyerr",
       "traceback": [
        "\u001b[0;31m---------------------------------------------------------------------------\u001b[0m\n\u001b[0;31mIndexError\u001b[0m                                Traceback (most recent call last)",
        "\u001b[0;32m<ipython-input-11-a660bc3facaf>\u001b[0m in \u001b[0;36m<module>\u001b[0;34m()\u001b[0m\n\u001b[1;32m      5\u001b[0m            'numberOfLinks', 'numwords_in_url', 'parametrizedLinkRatio', 'spelling_errors_ratio']]\n\u001b[1;32m      6\u001b[0m \u001b[0;34m\u001b[0m\u001b[0m\n\u001b[0;32m----> 7\u001b[0;31m \u001b[0mcorrelations\u001b[0m \u001b[0;34m=\u001b[0m \u001b[0mnumdata\u001b[0m\u001b[0;34m.\u001b[0m\u001b[0mcorr\u001b[0m\u001b[0;34m(\u001b[0m\u001b[0;34m)\u001b[0m\u001b[0;34m\u001b[0m\u001b[0m\n\u001b[0m",
        "\u001b[0;32m/Users/dubT/anaconda/lib/python2.7/site-packages/pandas/core/frame.pyc\u001b[0m in \u001b[0;36mcorr\u001b[0;34m(self, method, min_periods)\u001b[0m\n\u001b[1;32m   3654\u001b[0m         \u001b[0my\u001b[0m \u001b[0;34m:\u001b[0m \u001b[0mDataFrame\u001b[0m\u001b[0;34m\u001b[0m\u001b[0m\n\u001b[1;32m   3655\u001b[0m         \"\"\"\n\u001b[0;32m-> 3656\u001b[0;31m         \u001b[0mnumeric_df\u001b[0m \u001b[0;34m=\u001b[0m \u001b[0mself\u001b[0m\u001b[0;34m.\u001b[0m\u001b[0m_get_numeric_data\u001b[0m\u001b[0;34m(\u001b[0m\u001b[0;34m)\u001b[0m\u001b[0;34m\u001b[0m\u001b[0m\n\u001b[0m\u001b[1;32m   3657\u001b[0m         \u001b[0mcols\u001b[0m \u001b[0;34m=\u001b[0m \u001b[0mnumeric_df\u001b[0m\u001b[0;34m.\u001b[0m\u001b[0mcolumns\u001b[0m\u001b[0;34m\u001b[0m\u001b[0m\n\u001b[1;32m   3658\u001b[0m         \u001b[0mmat\u001b[0m \u001b[0;34m=\u001b[0m \u001b[0mnumeric_df\u001b[0m\u001b[0;34m.\u001b[0m\u001b[0mvalues\u001b[0m\u001b[0;34m\u001b[0m\u001b[0m\n",
        "\u001b[0;32m/Users/dubT/anaconda/lib/python2.7/site-packages/pandas/core/generic.pyc\u001b[0m in \u001b[0;36m_get_numeric_data\u001b[0;34m(self)\u001b[0m\n\u001b[1;32m   1892\u001b[0m     \u001b[0;32mdef\u001b[0m \u001b[0m_get_numeric_data\u001b[0m\u001b[0;34m(\u001b[0m\u001b[0mself\u001b[0m\u001b[0;34m)\u001b[0m\u001b[0;34m:\u001b[0m\u001b[0;34m\u001b[0m\u001b[0m\n\u001b[1;32m   1893\u001b[0m         return self._constructor(\n\u001b[0;32m-> 1894\u001b[0;31m             self._data.get_numeric_data()).__finalize__(self)\n\u001b[0m\u001b[1;32m   1895\u001b[0m \u001b[0;34m\u001b[0m\u001b[0m\n\u001b[1;32m   1896\u001b[0m     \u001b[0;32mdef\u001b[0m \u001b[0m_get_bool_data\u001b[0m\u001b[0;34m(\u001b[0m\u001b[0mself\u001b[0m\u001b[0;34m)\u001b[0m\u001b[0;34m:\u001b[0m\u001b[0;34m\u001b[0m\u001b[0m\n",
        "\u001b[0;32m/Users/dubT/anaconda/lib/python2.7/site-packages/pandas/core/internals.pyc\u001b[0m in \u001b[0;36mget_numeric_data\u001b[0;34m(self, **kwargs)\u001b[0m\n\u001b[1;32m   2594\u001b[0m     \u001b[0;32mdef\u001b[0m \u001b[0mget_numeric_data\u001b[0m\u001b[0;34m(\u001b[0m\u001b[0mself\u001b[0m\u001b[0;34m,\u001b[0m \u001b[0;34m**\u001b[0m\u001b[0mkwargs\u001b[0m\u001b[0;34m)\u001b[0m\u001b[0;34m:\u001b[0m\u001b[0;34m\u001b[0m\u001b[0m\n\u001b[1;32m   2595\u001b[0m         \u001b[0mkwargs\u001b[0m\u001b[0;34m[\u001b[0m\u001b[0;34m'is_numeric'\u001b[0m\u001b[0;34m]\u001b[0m \u001b[0;34m=\u001b[0m \u001b[0mTrue\u001b[0m\u001b[0;34m\u001b[0m\u001b[0m\n\u001b[0;32m-> 2596\u001b[0;31m         \u001b[0;32mreturn\u001b[0m \u001b[0mself\u001b[0m\u001b[0;34m.\u001b[0m\u001b[0mget_data\u001b[0m\u001b[0;34m(\u001b[0m\u001b[0;34m**\u001b[0m\u001b[0mkwargs\u001b[0m\u001b[0;34m)\u001b[0m\u001b[0;34m\u001b[0m\u001b[0m\n\u001b[0m\u001b[1;32m   2597\u001b[0m \u001b[0;34m\u001b[0m\u001b[0m\n\u001b[1;32m   2598\u001b[0m     \u001b[0;32mdef\u001b[0m \u001b[0mget_data\u001b[0m\u001b[0;34m(\u001b[0m\u001b[0mself\u001b[0m\u001b[0;34m,\u001b[0m \u001b[0mcopy\u001b[0m\u001b[0;34m=\u001b[0m\u001b[0mFalse\u001b[0m\u001b[0;34m,\u001b[0m \u001b[0mcolumns\u001b[0m\u001b[0;34m=\u001b[0m\u001b[0mNone\u001b[0m\u001b[0;34m,\u001b[0m \u001b[0;34m**\u001b[0m\u001b[0mkwargs\u001b[0m\u001b[0;34m)\u001b[0m\u001b[0;34m:\u001b[0m\u001b[0;34m\u001b[0m\u001b[0m\n",
        "\u001b[0;32m/Users/dubT/anaconda/lib/python2.7/site-packages/pandas/core/internals.pyc\u001b[0m in \u001b[0;36mget_data\u001b[0;34m(self, copy, columns, **kwargs)\u001b[0m\n\u001b[1;32m   2608\u001b[0m             \u001b[0;32mreturn\u001b[0m \u001b[0mself\u001b[0m\u001b[0;34m.\u001b[0m\u001b[0mmake_empty\u001b[0m\u001b[0;34m(\u001b[0m\u001b[0;34m)\u001b[0m\u001b[0;34m\u001b[0m\u001b[0m\n\u001b[1;32m   2609\u001b[0m \u001b[0;34m\u001b[0m\u001b[0m\n\u001b[0;32m-> 2610\u001b[0;31m         \u001b[0;32mreturn\u001b[0m \u001b[0mself\u001b[0m\u001b[0;34m.\u001b[0m\u001b[0mcombine\u001b[0m\u001b[0;34m(\u001b[0m\u001b[0mblocks\u001b[0m\u001b[0;34m)\u001b[0m\u001b[0;34m\u001b[0m\u001b[0m\n\u001b[0m\u001b[1;32m   2611\u001b[0m \u001b[0;34m\u001b[0m\u001b[0m\n\u001b[1;32m   2612\u001b[0m     \u001b[0;32mdef\u001b[0m \u001b[0mcombine\u001b[0m\u001b[0;34m(\u001b[0m\u001b[0mself\u001b[0m\u001b[0;34m,\u001b[0m \u001b[0mblocks\u001b[0m\u001b[0;34m)\u001b[0m\u001b[0;34m:\u001b[0m\u001b[0;34m\u001b[0m\u001b[0m\n",
        "\u001b[0;32m/Users/dubT/anaconda/lib/python2.7/site-packages/pandas/core/internals.pyc\u001b[0m in \u001b[0;36mcombine\u001b[0;34m(self, blocks)\u001b[0m\n\u001b[1;32m   2622\u001b[0m         \u001b[0mnew_axes\u001b[0m \u001b[0;34m=\u001b[0m \u001b[0mlist\u001b[0m\u001b[0;34m(\u001b[0m\u001b[0mself\u001b[0m\u001b[0;34m.\u001b[0m\u001b[0maxes\u001b[0m\u001b[0;34m)\u001b[0m\u001b[0;34m\u001b[0m\u001b[0m\n\u001b[1;32m   2623\u001b[0m         \u001b[0mnew_axes\u001b[0m\u001b[0;34m[\u001b[0m\u001b[0;36m0\u001b[0m\u001b[0;34m]\u001b[0m \u001b[0;34m=\u001b[0m \u001b[0mnew_items\u001b[0m\u001b[0;34m\u001b[0m\u001b[0m\n\u001b[0;32m-> 2624\u001b[0;31m         \u001b[0;32mreturn\u001b[0m \u001b[0mself\u001b[0m\u001b[0;34m.\u001b[0m\u001b[0m__class__\u001b[0m\u001b[0;34m(\u001b[0m\u001b[0mnew_blocks\u001b[0m\u001b[0;34m,\u001b[0m \u001b[0mnew_axes\u001b[0m\u001b[0;34m,\u001b[0m \u001b[0mdo_integrity_check\u001b[0m\u001b[0;34m=\u001b[0m\u001b[0mFalse\u001b[0m\u001b[0;34m)\u001b[0m\u001b[0;34m\u001b[0m\u001b[0m\n\u001b[0m\u001b[1;32m   2625\u001b[0m \u001b[0;34m\u001b[0m\u001b[0m\n\u001b[1;32m   2626\u001b[0m     \u001b[0;32mdef\u001b[0m \u001b[0mget_slice\u001b[0m\u001b[0;34m(\u001b[0m\u001b[0mself\u001b[0m\u001b[0;34m,\u001b[0m \u001b[0mslobj\u001b[0m\u001b[0;34m,\u001b[0m \u001b[0maxis\u001b[0m\u001b[0;34m=\u001b[0m\u001b[0;36m0\u001b[0m\u001b[0;34m,\u001b[0m \u001b[0mraise_on_error\u001b[0m\u001b[0;34m=\u001b[0m\u001b[0mFalse\u001b[0m\u001b[0;34m)\u001b[0m\u001b[0;34m:\u001b[0m\u001b[0;34m\u001b[0m\u001b[0m\n",
        "\u001b[0;32m/Users/dubT/anaconda/lib/python2.7/site-packages/pandas/core/internals.pyc\u001b[0m in \u001b[0;36m__init__\u001b[0;34m(self, blocks, axes, do_integrity_check, fastpath)\u001b[0m\n\u001b[1;32m   2035\u001b[0m         \u001b[0;31m# we have a duplicate items index, setup the block maps\u001b[0m\u001b[0;34m\u001b[0m\u001b[0;34m\u001b[0m\u001b[0m\n\u001b[1;32m   2036\u001b[0m         \u001b[0;32mif\u001b[0m \u001b[0;32mnot\u001b[0m \u001b[0mself\u001b[0m\u001b[0;34m.\u001b[0m\u001b[0mitems\u001b[0m\u001b[0;34m.\u001b[0m\u001b[0mis_unique\u001b[0m\u001b[0;34m:\u001b[0m\u001b[0;34m\u001b[0m\u001b[0m\n\u001b[0;32m-> 2037\u001b[0;31m             \u001b[0mself\u001b[0m\u001b[0;34m.\u001b[0m\u001b[0m_set_ref_locs\u001b[0m\u001b[0;34m(\u001b[0m\u001b[0mdo_refs\u001b[0m\u001b[0;34m=\u001b[0m\u001b[0mTrue\u001b[0m\u001b[0;34m)\u001b[0m\u001b[0;34m\u001b[0m\u001b[0m\n\u001b[0m\u001b[1;32m   2038\u001b[0m \u001b[0;34m\u001b[0m\u001b[0m\n\u001b[1;32m   2039\u001b[0m     \u001b[0;32mdef\u001b[0m \u001b[0mmake_empty\u001b[0m\u001b[0;34m(\u001b[0m\u001b[0mself\u001b[0m\u001b[0;34m,\u001b[0m \u001b[0maxes\u001b[0m\u001b[0;34m=\u001b[0m\u001b[0mNone\u001b[0m\u001b[0;34m)\u001b[0m\u001b[0;34m:\u001b[0m\u001b[0;34m\u001b[0m\u001b[0m\n",
        "\u001b[0;32m/Users/dubT/anaconda/lib/python2.7/site-packages/pandas/core/internals.pyc\u001b[0m in \u001b[0;36m_set_ref_locs\u001b[0;34m(self, labels, do_refs)\u001b[0m\n\u001b[1;32m   2187\u001b[0m             \u001b[0;32mfor\u001b[0m \u001b[0mblock\u001b[0m\u001b[0;34m,\u001b[0m \u001b[0mitems\u001b[0m \u001b[0;32min\u001b[0m \u001b[0mim\u001b[0m\u001b[0;34m.\u001b[0m\u001b[0mitems\u001b[0m\u001b[0;34m(\u001b[0m\u001b[0;34m)\u001b[0m\u001b[0;34m:\u001b[0m\u001b[0;34m\u001b[0m\u001b[0m\n\u001b[1;32m   2188\u001b[0m                 \u001b[0;32mfor\u001b[0m \u001b[0mi\u001b[0m\u001b[0;34m,\u001b[0m \u001b[0mloc\u001b[0m \u001b[0;32min\u001b[0m \u001b[0menumerate\u001b[0m\u001b[0;34m(\u001b[0m\u001b[0mitems\u001b[0m\u001b[0;34m)\u001b[0m\u001b[0;34m:\u001b[0m\u001b[0;34m\u001b[0m\u001b[0m\n\u001b[0;32m-> 2189\u001b[0;31m                     \u001b[0mrl\u001b[0m\u001b[0;34m[\u001b[0m\u001b[0mloc\u001b[0m\u001b[0;34m]\u001b[0m \u001b[0;34m=\u001b[0m \u001b[0;34m(\u001b[0m\u001b[0mblock\u001b[0m\u001b[0;34m,\u001b[0m \u001b[0mi\u001b[0m\u001b[0;34m)\u001b[0m\u001b[0;34m\u001b[0m\u001b[0m\n\u001b[0m\u001b[1;32m   2190\u001b[0m             \u001b[0mself\u001b[0m\u001b[0;34m.\u001b[0m\u001b[0m_ref_locs\u001b[0m \u001b[0;34m=\u001b[0m \u001b[0mrl\u001b[0m\u001b[0;34m\u001b[0m\u001b[0m\n\u001b[1;32m   2191\u001b[0m             \u001b[0;32mreturn\u001b[0m \u001b[0mrl\u001b[0m\u001b[0;34m\u001b[0m\u001b[0m\n",
        "\u001b[0;31mIndexError\u001b[0m: list assignment index out of range"
       ]
      }
     ],
     "prompt_number": 11
    },
    {
     "cell_type": "code",
     "collapsed": false,
     "input": [
      "def convert_text (df, col):\n",
      "    title_list = []\n",
      "    body_list = []\n",
      "    url_list = []\n",
      "    for (i, row) in enumerate(df[col]):\n",
      "        try:\n",
      "            bp_dict = ast.literal_eval(row)\n",
      "        except:\n",
      "            bp_dict = {}\n",
      "        for k,v in bp_dict.iteritems():\n",
      "            if k == 'title':\n",
      "                title_list.append(v)\n",
      "            if k == 'body':\n",
      "                body_list.append(v)\n",
      "            if k == 'url':\n",
      "                url_list.append(v)\n",
      "        if len(title_list) == i:\n",
      "            title_list.append('')\n",
      "        if len(body_list) == i:\n",
      "            body_list.append('')\n",
      "        if len(url_list) == i:\n",
      "            url_list.append('') \n",
      "    return title_list, body_list, url_list \n",
      "\n",
      "def extract_domain(url):\n",
      "    # extract domains\n",
      "    domain = url.lower().split('/')[2]\n",
      "    domain_parts = domain.split('.')\n",
      "\n",
      "    # e.g. co.uk\n",
      "    if domain_parts[-2] not in ['com', 'co']:\n",
      "        return '.'.join(domain_parts[-2:])\n",
      "    else:\n",
      "        return '.'.join(domain_parts[-3:])"
     ],
     "language": "python",
     "metadata": {},
     "outputs": [],
     "prompt_number": 2
    },
    {
     "cell_type": "code",
     "collapsed": false,
     "input": [
      "# numdata['alchemy_category_score'] = numdata['alchemy_category_score'].replace('?',0)"
     ],
     "language": "python",
     "metadata": {},
     "outputs": [],
     "prompt_number": 15
    },
    {
     "cell_type": "code",
     "collapsed": false,
     "input": [
      "def getDender(bags, titles, figsize=(40,15)):\n",
      "    distxy = squareform(pdist(bags, metric='euclidean'))\n",
      "\n",
      "    plt.figure(figsize=figsize)\n",
      "    R = dendrogram(linkage(distxy, method='complete'), orientation = 'right', labels=titles)\n",
      "\n",
      "    xlabel('distance')\n",
      "    ylabel('headlines')\n",
      "    suptitle('Cluster Dendrogram', fontweight='bold', fontsize=14)"
     ],
     "language": "python",
     "metadata": {},
     "outputs": [],
     "prompt_number": 3
    },
    {
     "cell_type": "code",
     "collapsed": false,
     "input": [
      "internetStopWords = ['http', 'www', 'online', 'com', 'jpg', 'static', 'link', 'terminal01', 'user', 'null', 'div', 'span', 'font', 'timestamp', 'content', 'blog']\n",
      "stopwords = ENGLISH_STOP_WORDS\n",
      "stopwords = list(stopwords)\n",
      "stopwords = stopwords + internetStopWords"
     ],
     "language": "python",
     "metadata": {},
     "outputs": [],
     "prompt_number": 3
    },
    {
     "cell_type": "code",
     "collapsed": false,
     "input": [
      "#loading data\n",
      "traindata = (p.read_table('train.tsv'))\n",
      "tr_title, tr_body, tr_url = convert_text(traindata,'boilerplate')\n",
      "\n",
      "testdata = p.read_table('test.tsv')\n",
      "ts_title, ts_body, ts_url = convert_text(testdata,'boilerplate')\n",
      "\n",
      "y_train = np.array(p.read_table('train.tsv'))[:,-1]\n",
      "y_test = np.array(p.read_table('test.tsv'))[:,-1]\n",
      "\n",
      "corpus = tr_body + ts_body + tr_title + ts_title"
     ],
     "language": "python",
     "metadata": {},
     "outputs": [],
     "prompt_number": 4
    },
    {
     "cell_type": "code",
     "collapsed": false,
     "input": [
      "urls = []\n",
      "for x in traindata['url']:\n",
      "    urls.append(extract_domain(x))\n",
      "\n",
      "urlDum = p.get_dummies(urls)\n",
      "url = np.array(urlDum)*10\n",
      "#weighing the urls 10 versus others"
     ],
     "language": "python",
     "metadata": {},
     "outputs": [],
     "prompt_number": 53
    },
    {
     "cell_type": "code",
     "collapsed": false,
     "input": [
      "#word weight for words within site\n",
      "wordTFIDF = tfidf(stop_words = stopwords, ngram_range=(1, 2), encoding='latin-1')\n",
      "\n",
      "tfdif = wordTFIDF.fit_transform(corpus)\n",
      "\n",
      "lentrain = len(tr_body)\n",
      "X = tfdif[:lentrain]"
     ],
     "language": "python",
     "metadata": {},
     "outputs": [
      {
       "output_type": "stream",
       "stream": "stdout",
       "text": [
        "\n"
       ]
      }
     ],
     "prompt_number": 41
    },
    {
     "cell_type": "code",
     "collapsed": false,
     "input": [
      "#merge sparse matrix with url dummies \n",
      "\n",
      "x = hstack( (xrnd,url) )\n"
     ],
     "language": "python",
     "metadata": {},
     "outputs": [
      {
       "metadata": {},
       "output_type": "pyout",
       "prompt_number": 57,
       "text": [
        "7395"
       ]
      }
     ],
     "prompt_number": 57
    },
    {
     "cell_type": "code",
     "collapsed": false,
     "input": [
      "rnd = lm.RandomizedLogisticRegression()\n",
      "xrnd = rnd.fit_transform(X, y_train)\n"
     ],
     "language": "python",
     "metadata": {},
     "outputs": [],
     "prompt_number": 49
    },
    {
     "cell_type": "code",
     "collapsed": false,
     "input": [
      "rd = lm.LogisticRegression()"
     ],
     "language": "python",
     "metadata": {},
     "outputs": [],
     "prompt_number": 50
    },
    {
     "cell_type": "code",
     "collapsed": false,
     "input": [
      "parameters = {'C': [.0001,.001, .01, .1, 1, 10]}\n",
      "clf = grid_search.GridSearchCV(rd, parameters)\n",
      "clf.fit(X, y_train)\n",
      "print clf.grid_scores_\n"
     ],
     "language": "python",
     "metadata": {},
     "outputs": [],
     "prompt_number": 22
    },
    {
     "cell_type": "code",
     "collapsed": false,
     "input": [
      "#get the dendergram \n",
      "#getDender(bag, tr_title)"
     ],
     "language": "python",
     "metadata": {},
     "outputs": [
      {
       "metadata": {},
       "output_type": "pyout",
       "prompt_number": 67,
       "text": [
        "<7395x1491003 sparse matrix of type '<type 'numpy.float64'>'\n",
        "\twith 1567213 stored elements in Compressed Sparse Row format>"
       ]
      }
     ],
     "prompt_number": 67
    },
    {
     "cell_type": "code",
     "collapsed": false,
     "input": [
      "print 'score: ' , np.mean(cross_validation.cross_val_score(rd, xrnd, y_train, cv=5, scoring='roc_auc'))"
     ],
     "language": "python",
     "metadata": {},
     "outputs": [
      {
       "output_type": "stream",
       "stream": "stdout",
       "text": [
        "score:  "
       ]
      },
      {
       "output_type": "stream",
       "stream": "stdout",
       "text": [
        "0.858069991418\n"
       ]
      }
     ],
     "prompt_number": 51
    },
    {
     "cell_type": "code",
     "collapsed": false,
     "input": [
      "def topWords(centers, vocab):\n",
      "    for i, center in enumerate(centers):\n",
      "        print 'Subpopulation ' + str(i) + ':'\n",
      "        for j in center.argsort()[-20:][::-1]:\n",
      "            print '\\t' + vocab[j]\n",
      "        print '\\n'\n"
     ],
     "language": "python",
     "metadata": {},
     "outputs": [],
     "prompt_number": 5
    },
    {
     "cell_type": "code",
     "collapsed": false,
     "input": [
      "def getAvg(labels, y):\n",
      "    ys = {}\n",
      "    avgs = {}\n",
      "    \n",
      "    for x in unique(labels):\n",
      "        ys[x] = []\n",
      "        avgs[x] = []\n",
      "\n",
      "    for i, c in enumerate(labels):\n",
      "        ys[c].append(y[i])\n",
      "    \n",
      "    for x in unique(labels):\n",
      "        avgs[x].append(np.mean(ys[x]))\n",
      "        \n",
      "    return ys, avgs"
     ],
     "language": "python",
     "metadata": {},
     "outputs": [],
     "prompt_number": 34
    },
    {
     "cell_type": "code",
     "collapsed": false,
     "input": [],
     "language": "python",
     "metadata": {},
     "outputs": [
      {
       "output_type": "stream",
       "stream": "stdout",
       "text": [
        "{1: [0.14285714285714285], 2: [1.0], 3: [1.0], 4: [0.51347325660121867]}\n"
       ]
      }
     ],
     "prompt_number": 37
    },
    {
     "cell_type": "code",
     "collapsed": false,
     "input": [
      "titles = np.array(tr_title)"
     ],
     "language": "python",
     "metadata": {},
     "outputs": [],
     "prompt_number": 6
    },
    {
     "cell_type": "code",
     "collapsed": false,
     "input": [
      "wordCount = cv(stop_words = stopwords, ngram_range= (1,2), encoding='latin-1')\n",
      "bag = wordCount.fit_transform(corpus)\n",
      "\n",
      "vocab = wordCount.get_feature_names()\n",
      "# vocabTF = wordTFIDF.get_feature_names()"
     ],
     "language": "python",
     "metadata": {},
     "outputs": [],
     "prompt_number": 6
    },
    {
     "cell_type": "code",
     "collapsed": false,
     "input": [
      "kt = cluster.KMeans(n_clusters = 5)\n",
      "count = kt.fit_transform(tfidf)\n",
      "labels = kt.labels_\n",
      "centers = kt.cluster_centers_\n",
      "\n",
      "lentrain = len(tr_body)\n",
      "tmpLabels = labels[:lentrain]"
     ],
     "language": "python",
     "metadata": {},
     "outputs": [],
     "prompt_number": 7
    },
    {
     "cell_type": "code",
     "collapsed": false,
     "input": [
      "topWords(centers, vocab)\n",
      "outcomeCnt, outcomeAvg = getAvg(tmpLabels, y_train)\n",
      "print outcomeAvg"
     ],
     "language": "python",
     "metadata": {},
     "outputs": [
      {
       "output_type": "stream",
       "stream": "stdout",
       "text": [
        "Subpopulation 0:\n",
        "\tanimal pleasure\n",
        "\tpleasure pain\n",
        "\tpain peppers\n",
        "\tman animal\n",
        "\tmnn man\n",
        "\tpeppers man\n",
        "\tpeppers mnn\n",
        "\tzzzz score\n",
        "\tfar surpassed\n",
        "\tfar support\n",
        "\tfar supported\n",
        "\tfar sure\n",
        "\tfar surface\n",
        "\tfar surgery\n",
        "\tfar surpass\n",
        "\tfar surveys\n",
        "\tfar surpasses\n",
        "\tfar sugar\n",
        "\tfar survived\n",
        "\tfar tags\n",
        "\n",
        "\n",
        "Subpopulation 1:\n",
        "\tcampaign images"
       ]
      },
      {
       "output_type": "stream",
       "stream": "stdout",
       "text": [
        "\n",
        "\timages 2011\n",
        "\t100 queries\n",
        "\timage campaign\n",
        "\tsmall campaign\n",
        "\timage small\n",
        "\ttypes 100\n",
        "\tqueries track\n",
        "\tbuzz form\n",
        "\tnsfw false\n",
        "\ttrack buzz\n",
        "\tsmall tracking\n",
        "\tcategory culture\n",
        "\tfalse age\n",
        "\tbadge type\n",
        "\tsmall nsfw\n",
        "\tfalse tracking\n",
        "\tenhanced category\n",
        "\tform enhanced\n",
        "\tform image\n",
        "\n",
        "\n",
        "Subpopulation 2:\n",
        "\tdamascus guide\n",
        "\tia damascus\n",
        "\tae damascus\n",
        "\tnr damascus\n",
        "\taoe damascus\n",
        "\taa damascus\n",
        "\trp damascus\n",
        "\ttr damascus\n",
        "\trr damascus\n",
        "\ttie shoe\n",
        "\tshoe laces\n",
        "\tguide 5549\n",
        "\tmhaetcoginhnprrefieeran damascus\n",
        "\tmhendmntcpehocrrioneek damascus\n",
        "\tmhrnneehp damascus\n",
        "\t5xmo popgn3nti\n",
        "\tmhx7e damascus\n",
        "\tmi damascus\n",
        "\tfndars rhoa\n",
        "\tyndyanr naiotd\n",
        "\n",
        "\n",
        "Subpopulation 3:\n",
        "\twhite castle"
       ]
      },
      {
       "output_type": "stream",
       "stream": "stdout",
       "text": [
        "\n",
        "\tshake large\n",
        "\tjack box\n",
        "\tdairy queen\n",
        "\tregion calories\n",
        "\tfast food\n",
        "\tcarl jr\n",
        "\t20oz calories\n",
        "\tchocolate shake\n",
        "\tlarge 20oz\n",
        "\tburger king\n",
        "\tsandwich calories\n",
        "\tburger calories\n",
        "\tcalories 710\n",
        "\tcalories 720\n",
        "\tcastle chocolate\n",
        "\tcalories 790\n",
        "\tcalories 780\n",
        "\tvanilla shake\n",
        "\tcalories 740\n",
        "\n",
        "\n",
        "Subpopulation 4:\n",
        "\tpeanut butter"
       ]
      },
      {
       "output_type": "stream",
       "stream": "stdout",
       "text": [
        "\n",
        "\tolive oil\n",
        "\tnew york\n",
        "\tice cream\n",
        "\tcream cheese\n",
        "\tpreheat oven\n",
        "\tmake sure\n",
        "\tset aside\n",
        "\t10 minutes\n",
        "\tbrown sugar\n",
        "\tsalt pepper\n",
        "\troom temperature\n",
        "\t15 minutes\n",
        "\t30 minutes\n",
        "\tchocolate chip\n",
        "\tchocolate chips\n",
        "\tbaking sheet\n",
        "\tyear old\n",
        "\tsports illustrated\n",
        "\t20 minutes\n",
        "\n",
        "\n"
       ]
      }
     ],
     "prompt_number": 31
    },
    {
     "cell_type": "markdown",
     "metadata": {},
     "source": [
      "#out put of above \n",
      "Subpopulation 0:\n",
      "\tcup,\n",
      "\tmake,\n",
      "\tchocolate,\n",
      "\tjust,\n",
      "\trecipe,\n",
      "\tadd,\n",
      "\tbutter,\n",
      "\tminutes,\n",
      "\tlike,\n",
      "\tsugar,\n",
      "\ttime,\n",
      "\tfood,\n",
      "\tcream,\n",
      "\tbaking,\n",
      "\tuse,\n",
      "\tbowl,\n",
      "\tcake,\n",
      "\tsalt,\n",
      "\tdon,\n",
      "\twater,\n",
      "\n",
      "\n",
      "Subpopulation 1:\n",
      "\thttp,\n",
      "\tdamascus,\n",
      "\twww,\n",
      "\tonline,\n",
      "\tcom,\n",
      "\tguide,\n",
      "\tia,\n",
      "\tni,\n",
      "\tae,\n",
      "\trr,\n",
      "\tnr,\n",
      "\tlaces,\n",
      "\tsc,\n",
      "\tbs,\n",
      "\trp,\n",
      "\tao,\n",
      "\tee,\n",
      "\tnn,\n",
      "\tla,\n",
      "\taoe,\n",
      "\n",
      "\n",
      "Subpopulation 2:\n",
      "\tdiv\n",
      "\ttwitter,\n",
      "\tinner,\n",
      "\tcom,\n",
      "\thttp,\n",
      "\tsaid,\n",
      "\thref,\n",
      "\t2009,\n",
      "\tcontent,\n",
      "\twww,\n",
      "\tcbssports,\n",
      "\tspan,\n",
      "\tbackground,\n",
      "\t08,\n",
      "\tfont,\n",
      "\ttimestamp,\n",
      "\tpm,\n",
      "\teye,\n",
      "\tblog,\n",
      "\theight,\n",
      "\n",
      "\n",
      "Subpopulation 3:\n",
      "\timage,\n",
      "\t2011,\n",
      "\tbuzz,\n",
      "\tlink,\n",
      "\tjpg,\n",
      "\tstatic,\n",
      "\tsmall,\n",
      "\timages,\n",
      "\tcampaign,\n",
      "\ttrack,\n",
      "\tterminal01,\n",
      "\tnsfw,\n",
      "\tcom,\n",
      "\tuser,\n",
      "\thttp,\n",
      "\tbuzzfeed,\n",
      "\ttracking,\n",
      "\twww,\n",
      "\tnull,\n",
      "\ttypes\n",
      "\n",
      "\n",
      "Subpopulation 4:\n",
      "\tlike,\n",
      "\tjust,\n",
      "\tnew,\n",
      "\tmake,\n",
      "\ttime,\n",
      "\tpeople,\n",
      "\tfood,\n",
      "\tcom,\n",
      "\trecipe,\n",
      "\thealth,\n",
      "\tworld,\n",
      "\tuse,\n",
      "\tday,\n",
      "\trecipes,\n",
      "\tsaid,\n",
      "\tdon,\n",
      "\tgood,\n",
      "\tnews,\n",
      "\tbest,\n",
      "\t10\n"
     ]
    },
    {
     "cell_type": "code",
     "collapsed": false,
     "input": [
      "#get label proportions \n",
      "\n",
      "\n",
      "\n"
     ],
     "language": "python",
     "metadata": {},
     "outputs": []
    }
   ],
   "metadata": {}
  }
 ]
}