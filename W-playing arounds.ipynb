{
 "metadata": {
  "name": "",
  "signature": "sha256:aa28a8336eecfdcae7d0abec4d66b6f4983a0737f2eed40cb4aec742c547d0be"
 },
 "nbformat": 3,
 "nbformat_minor": 0,
 "worksheets": [
  {
   "cells": [
    {
     "cell_type": "code",
     "collapsed": false,
     "input": [
      "%pylab inline\n",
      "import numpy as np\n",
      "from sklearn import metrics,preprocessing,cross_validation\n",
      "from sklearn.feature_extraction.text import CountVectorizer as cv\n",
      "from sklearn.feature_extraction.text import TfidfVectorizer as tfidf\n",
      "import sklearn.linear_model as lm\n",
      "import pandas as p\n",
      "import ast\n",
      "from sklearn import cluster\n",
      "from scipy.cluster.hierarchy import linkage, dendrogram\n",
      "from scipy.spatial.distance import pdist, squareform"
     ],
     "language": "python",
     "metadata": {},
     "outputs": [
      {
       "output_type": "stream",
       "stream": "stdout",
       "text": [
        "Populating the interactive namespace from numpy and matplotlib\n"
       ]
      }
     ],
     "prompt_number": 53
    },
    {
     "cell_type": "code",
     "collapsed": false,
     "input": [
      "traindata = list(np.array(p.read_table('train.tsv'))[:,2])"
     ],
     "language": "python",
     "metadata": {},
     "outputs": [],
     "prompt_number": 17
    },
    {
     "cell_type": "code",
     "collapsed": false,
     "input": [
      "numdata = traindata[['alchemy_category_score', 'avglinksize', 'commonlinkratio_1', 'commonlinkratio_2', 'commonlinkratio_3', \n",
      "           'commonlinkratio_4', 'compression_ratio', 'embed_ratio', 'framebased', 'frameTagRatio', 'hasDomainLink', \n",
      "           'html_ratio', 'image_ratio', 'is_news', 'lengthyLinkDomain', 'linkwordscore','image_ratio', 'is_news', \n",
      "           'lengthyLinkDomain', 'linkwordscore', 'news_front_page', 'non_markup_alphanum_characters', \n",
      "           'numberOfLinks', 'numwords_in_url', 'parametrizedLinkRatio', 'spelling_errors_ratio']]\n",
      "\n",
      "numdata.head()"
     ],
     "language": "python",
     "metadata": {},
     "outputs": [],
     "prompt_number": 14
    },
    {
     "cell_type": "code",
     "collapsed": false,
     "input": [
      "def convert_text (df, col):\n",
      "    title_list = []\n",
      "    body_list = []\n",
      "    url_list = []\n",
      "    for (i, row) in enumerate(df[col]):\n",
      "        try:\n",
      "            bp_dict = ast.literal_eval(row)\n",
      "        except:\n",
      "            bp_dict = {}\n",
      "        for k,v in bp_dict.iteritems():\n",
      "            if k == 'title':\n",
      "                title_list.append(v)\n",
      "            if k == 'body':\n",
      "                body_list.append(v)\n",
      "            if k == 'url':\n",
      "                url_list.append(v)\n",
      "        if len(title_list) == i:\n",
      "            title_list.append('')\n",
      "        if len(body_list) == i:\n",
      "            body_list.append('')\n",
      "        if len(url_list) == i:\n",
      "            url_list.append('') \n",
      "    return title_list, body_list, url_list "
     ],
     "language": "python",
     "metadata": {},
     "outputs": [],
     "prompt_number": 35
    },
    {
     "cell_type": "code",
     "collapsed": false,
     "input": [
      "numdata['alchemy_category_score'] = numdata['alchemy_category_score'].replace('?',0)"
     ],
     "language": "python",
     "metadata": {},
     "outputs": [],
     "prompt_number": 15
    },
    {
     "cell_type": "code",
     "collapsed": false,
     "input": [
      "def getDender(bags, titles, figsize=(40,15)):\n",
      "    distxy = squareform(pdist(bags, metric='euclidean'))\n",
      "\n",
      "    plt.figure(figsize=figsize)\n",
      "    R = dendrogram(linkage(distxy, method='complete'), orientation = 'right', labels=titles)\n",
      "\n",
      "    xlabel('distance')\n",
      "    ylabel('headlines')\n",
      "    suptitle('Cluster Dendrogram', fontweight='bold', fontsize=14)"
     ],
     "language": "python",
     "metadata": {},
     "outputs": [],
     "prompt_number": 41
    },
    {
     "cell_type": "code",
     "collapsed": false,
     "input": [
      "traindata = (p.read_table('train.tsv'))\n",
      "tr_title, tr_body, tr_url = convert_text(traindata,'boilerplate')\n",
      "\n",
      "testdata = list(np.array(p.read_table('test.tsv'))[:,2])\n",
      "y = np.array(p.read_table('train.tsv'))[:,-1]\n",
      "\n",
      "wordCount = cv(stop_words = 'english', encoding='latin-1')\n",
      "wordTFIDF = tfidf(stop_words = 'english', encoding='latin-1')\n",
      "\n",
      "corpus = tr_body\n",
      "bag = wordCount.fit_transform(corpus)\n",
      "tfdif = wordTFIDF.fit_transform(corpus)\n",
      "\n",
      "tfdif = tfdif.toarray()\n",
      "\n",
      "#get the dendergram \n",
      "#getDender(bag, tr_title)"
     ],
     "language": "python",
     "metadata": {},
     "outputs": [
      {
       "metadata": {},
       "output_type": "pyout",
       "prompt_number": 45,
       "text": [
        "<7395x85154 sparse matrix of type '<type 'numpy.int64'>'\n",
        "\twith 1063935 stored elements in Compressed Sparse Column format>"
       ]
      }
     ],
     "prompt_number": 45
    },
    {
     "cell_type": "code",
     "collapsed": false,
     "input": [
      "def topWords(centers, vocab):\n",
      "    for i, center in enumerate(centers):\n",
      "        print 'Subpopulation ' + str(i) + ':'\n",
      "        for j in center.argsort()[-20:][::-1]:\n",
      "            print '\\t' + vocab[j]\n",
      "        print '\\n'\n"
     ],
     "language": "python",
     "metadata": {},
     "outputs": [],
     "prompt_number": 46
    },
    {
     "cell_type": "code",
     "collapsed": false,
     "input": [
      "titles = np.array(tr_title)"
     ],
     "language": "python",
     "metadata": {},
     "outputs": [],
     "prompt_number": 47
    },
    {
     "cell_type": "code",
     "collapsed": false,
     "input": [
      "vocab = wordCount.get_feature_names()\n",
      "vocabTF = wordTFIDF.get_feature_names()"
     ],
     "language": "python",
     "metadata": {},
     "outputs": [],
     "prompt_number": 49
    },
    {
     "cell_type": "code",
     "collapsed": false,
     "input": [
      "kt = cluster.KMeans(n_clusters = 5)\n",
      "count = kt.fit_transform(bag)\n",
      "labels = kt.labels_\n",
      "centers = kt.cluster_centers_"
     ],
     "language": "python",
     "metadata": {},
     "outputs": [],
     "prompt_number": 55
    },
    {
     "cell_type": "code",
     "collapsed": false,
     "input": [
      "topWords(centers, vocab)\n"
     ],
     "language": "python",
     "metadata": {},
     "outputs": []
    },
    {
     "cell_type": "markdown",
     "metadata": {},
     "source": [
      "#out put of above \n",
      "Subpopulation 0:\n",
      "\tcup,\n",
      "\tmake,\n",
      "\tchocolate,\n",
      "\tjust,\n",
      "\trecipe,\n",
      "\tadd,\n",
      "\tbutter,\n",
      "\tminutes,\n",
      "\tlike,\n",
      "\tsugar,\n",
      "\ttime,\n",
      "\tfood,\n",
      "\tcream,\n",
      "\tbaking,\n",
      "\tuse,\n",
      "\tbowl,\n",
      "\tcake,\n",
      "\tsalt,\n",
      "\tdon,\n",
      "\twater,\n",
      "\n",
      "\n",
      "Subpopulation 1:\n",
      "\thttp,\n",
      "\tdamascus,\n",
      "\twww,\n",
      "\tonline,\n",
      "\tcom,\n",
      "\tguide,\n",
      "\tia,\n",
      "\tni,\n",
      "\tae,\n",
      "\trr,\n",
      "\tnr,\n",
      "\tlaces,\n",
      "\tsc,\n",
      "\tbs,\n",
      "\trp,\n",
      "\tao,\n",
      "\tee,\n",
      "\tnn,\n",
      "\tla,\n",
      "\taoe,\n",
      "\n",
      "\n",
      "Subpopulation 2:\n",
      "\tdiv\n",
      "\ttwitter,\n",
      "\tinner,\n",
      "\tcom,\n",
      "\thttp,\n",
      "\tsaid,\n",
      "\thref,\n",
      "\t2009,\n",
      "\tcontent,\n",
      "\twww,\n",
      "\tcbssports,\n",
      "\tspan,\n",
      "\tbackground,\n",
      "\t08,\n",
      "\tfont,\n",
      "\ttimestamp,\n",
      "\tpm,\n",
      "\teye,\n",
      "\tblog,\n",
      "\theight,\n",
      "\n",
      "\n",
      "Subpopulation 3:\n",
      "\timage,\n",
      "\t2011,\n",
      "\tbuzz,\n",
      "\tlink,\n",
      "\tjpg,\n",
      "\tstatic,\n",
      "\tsmall,\n",
      "\timages,\n",
      "\tcampaign,\n",
      "\ttrack,\n",
      "\tterminal01,\n",
      "\tnsfw,\n",
      "\tcom,\n",
      "\tuser,\n",
      "\thttp,\n",
      "\tbuzzfeed,\n",
      "\ttracking,\n",
      "\twww,\n",
      "\tnull,\n",
      "\ttypes\n",
      "\n",
      "\n",
      "Subpopulation 4:\n",
      "\tlike,\n",
      "\tjust,\n",
      "\tnew,\n",
      "\tmake,\n",
      "\ttime,\n",
      "\tpeople,\n",
      "\tfood,\n",
      "\tcom,\n",
      "\trecipe,\n",
      "\thealth,\n",
      "\tworld,\n",
      "\tuse,\n",
      "\tday,\n",
      "\trecipes,\n",
      "\tsaid,\n",
      "\tdon,\n",
      "\tgood,\n",
      "\tnews,\n",
      "\tbest,\n",
      "\t10\n"
     ]
    },
    {
     "cell_type": "code",
     "collapsed": false,
     "input": [
      "#get label proportions "
     ],
     "language": "python",
     "metadata": {},
     "outputs": []
    }
   ],
   "metadata": {}
  }
 ]
}